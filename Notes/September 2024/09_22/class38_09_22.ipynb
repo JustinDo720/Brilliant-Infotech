{
 "cells": [
  {
   "cell_type": "markdown",
   "metadata": {},
   "source": [
    "# Class 38 \n",
    "\n",
    "---\n",
    "\n",
    "Django and React "
   ]
  },
  {
   "cell_type": "markdown",
   "metadata": {},
   "source": [
    "# Notes for Today\n",
    "\n",
    "**React Router**\n",
    "\n",
    "```js\n",
    "\n",
    "<BrowserRouter>\n",
    "    <ul>\n",
    "        <li><Link to=''>Home</li>\n",
    "    </ul>\n",
    "\n",
    "</BrowserRouter>\n",
    "\n",
    "```\n",
    "\n",
    "---\n",
    "\n",
    "**Creating**\n",
    "\n",
    "```js\n",
    "\n",
    "const [pros, setPros] = useState([])\n",
    "\n",
    "const handleProductChange=(e)=>{\n",
    "    // e.target is just grabbing the information from the fields\n",
    "    const { name, value } = e.target\n",
    "    setPros({...pros, [name]: value})\n",
    "}\n",
    "\n",
    "```\n",
    "\n",
    "`...pros` is just a **spread operator** which takes the current **hashmap** / **dictioanry** and updates it with either *new key new value* or *old key new value*\n",
    "\n",
    "\n",
    "\n",
    "Then we could go ahead and POST the data based on our **state** \n",
    "\n",
    "You have to use a **axios.post** which takes a url and then the data. We could make a data hashmap using our **state**\n",
    "\n",
    "---\n",
    "\n",
    "**Sttring interpolation**\n",
    "\n",
    "--> use the '' and also ${}\n",
    "\n",
    "---\n",
    "\n",
    "When using **React Router** make sure you use `<Link>` don't use buttons  \n"
   ]
  },
  {
   "cell_type": "markdown",
   "metadata": {},
   "source": []
  }
 ],
 "metadata": {
  "language_info": {
   "name": "python"
  }
 },
 "nbformat": 4,
 "nbformat_minor": 2
}
