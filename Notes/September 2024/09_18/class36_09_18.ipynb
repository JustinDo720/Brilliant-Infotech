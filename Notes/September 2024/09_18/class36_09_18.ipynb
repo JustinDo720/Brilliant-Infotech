{
 "cells": [
  {
   "cell_type": "markdown",
   "metadata": {},
   "source": [
    "# Class 36\n",
    "\n",
    "---\n",
    "\n"
   ]
  },
  {
   "cell_type": "markdown",
   "metadata": {},
   "source": [
    "# Notes for Today\n",
    "\n",
    "No class for today however, we're planning on working on a **React** Project just so that i could be familiar with React\n",
    "\n"
   ]
  }
 ],
 "metadata": {
  "language_info": {
   "name": "python"
  }
 },
 "nbformat": 4,
 "nbformat_minor": 2
}
