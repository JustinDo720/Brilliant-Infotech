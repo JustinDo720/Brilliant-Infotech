{
 "cells": [
  {
   "cell_type": "markdown",
   "metadata": {},
   "source": [
    "# Class 26\n"
   ]
  },
  {
   "cell_type": "code",
   "execution_count": null,
   "metadata": {},
   "outputs": [],
   "source": []
  },
  {
   "cell_type": "markdown",
   "metadata": {},
   "source": [
    "# Notes today\n",
    "\n",
    "React API \n",
    "\n",
    "Application Programming INterface is a service between servers \n",
    "\n",
    "`npm install axios` \n",
    "\n",
    "--- \n",
    "\n",
    "We need to install axios then we could work \n",
    "\n",
    "---\n",
    "\n",
    "**Redux** state management globally \n",
    "\n",
    "Actions are used to update the centralized store \n",
    "- What to do \n",
    "\n",
    "Reducers \n",
    "- How to do \n",
    "\n",
    "Store \n",
    "- Holds the state of the application \n",
    "\n",
    "Install Redux \n",
    "`npm i redux`\n",
    "\n",
    "\n",
    "**Reducers** \n",
    " `index.js` will have our combined reducers \n",
    " `reducerName.js` will be a function that takes in the state with an action. That action will be perfroemced based on the type of action. Switch case for cases in the different types of actions.\n",
    "\n",
    " After creating a `store.js` \n",
    "\n",
    " we go into our application:\n",
    " `npm i react-redux` \n",
    "\n",
    " `import {useSelector} from \"react-redux\"`\n",
    "\n",
    "import your actions then use `dispatch` sooo `dispatch(action_name)` \n",
    "\n",
    "import store into `index.js` using `import { Provider } from 'react-redux';`\n",
    "\n",
    "Then within root render:\n",
    "\n",
    "```html\n",
    "<Provider store={store}>\n",
    "    <API></API>\n",
    "    <App></App>\n",
    "</Provider>\n",
    "```\n",
    "\n",
    "---\n",
    "\n",
    "calculaor with switch case\n",
    "\n",
    "try to use state \n",
    "\n",
    "Search Filter \n",
    "- List of Values display under \n",
    "- Input box show specific value\n",
    "- a seach should only appear the value that the user types  \n",
    "- Enter button \n"
   ]
  },
  {
   "cell_type": "markdown",
   "metadata": {},
   "source": []
  }
 ],
 "metadata": {
  "language_info": {
   "name": "python"
  }
 },
 "nbformat": 4,
 "nbformat_minor": 2
}
