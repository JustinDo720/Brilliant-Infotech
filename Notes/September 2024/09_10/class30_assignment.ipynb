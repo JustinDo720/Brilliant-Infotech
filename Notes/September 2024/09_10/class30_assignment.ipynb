{
 "cells": [
  {
   "cell_type": "markdown",
   "metadata": {},
   "source": [
    "# Class 30 Assignment\n",
    "\n",
    "---\n",
    "\n",
    "We have two assignments:\n",
    "1) Display the number of times a user visits a page\n",
    "1) Create a login and logout system using django cookies\n",
    "\n",
    "---"
   ]
  },
  {
   "cell_type": "markdown",
   "metadata": {},
   "source": [
    "# Display user vists \n",
    "\n",
    "\n",
    "We're going to be using cookies. Each time a user visits a page we're going to grab a cookie (**set if not there**) and increment it each time that url is called.\n",
    "\n",
    "We could do that in a view so\n",
    "\n",
    "*app_name/views.py*\n",
    "\n",
    "```python\n",
    "\n",
    "def cookie_vists(request):\n",
    "    # We set up context to be pass in the number of times a person has visited our page\n",
    "    context = {} \n",
    "\n",
    "    # Logical Statement \n",
    "    if request.COOKIES.get('vists', 0):\n",
    "        # That means we have visited before soo\n",
    "        # We take that number  and increment it\n",
    "        pass\n",
    "    else:\n",
    "        # We need to set the times visited to default value of 1\n",
    "        # Because it's the first time \n",
    "        context['times_visted'] = 1\n",
    "    \n",
    "    # When we work with cookies we always need a response object \n",
    "    response = render(request, 'cookies_visited.html', context)\n",
    "    # Now that we have a response object, we could set cookies \n",
    "    response.set_cookies('vists', context['times_visted'])\n",
    "\n",
    "```\n",
    "\n",
    "After setting up our logical statements and **response** object to use **cookies**, let's complete the logical for when a *visit cookie* actually exists \n",
    "\n",
    "All we're going to do is increment it sooo\n",
    "\n",
    "```python\n",
    "\n",
    "def cookie_vists(request):\n",
    "    context = {} \n",
    "\n",
    "    # Logical Statement \n",
    "    if request.COOKIES.get('vists', 0):\n",
    "        # That means we have visited before soo\n",
    "        # We take that number  and increment it\n",
    "        vists = request.Cookies.get('vists', 0)\n",
    "        # NOTE that vists will be a String value\n",
    "        context['times_visted'] = int(vists) + 1\n",
    "\n",
    "```\n",
    "\n",
    "---\n",
    "\n",
    "Then we set up a **url** and a **template** and we're finished"
   ]
  },
  {
   "cell_type": "markdown",
   "metadata": {},
   "source": []
  }
 ],
 "metadata": {
  "language_info": {
   "name": "python"
  }
 },
 "nbformat": 4,
 "nbformat_minor": 2
}
