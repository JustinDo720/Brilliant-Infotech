{
 "cells": [
  {
   "cell_type": "markdown",
   "metadata": {},
   "source": [
    "# Class 37\n",
    "\n",
    "---\n",
    "\n",
    "DJango RESTFRAMEWORK and React"
   ]
  },
  {
   "cell_type": "markdown",
   "metadata": {},
   "source": [
    "# Notes for today\n",
    "\n",
    "**React** \n",
    "\n",
    "Routing consist of `Link` which are urls that are then linked to our `Routes` tag which have `Route` that actually does the **mapping**\n",
    "\n",
    "We would then map the **exact** path for each \n",
    "\n",
    "```js\n",
    "\n",
    "import {Routes, Route, Link, BrowserRouter } form 'react-router'\n",
    "\n",
    "function Home(){\n",
    "    return(\n",
    "        <>\n",
    "            <BrowserRouter>\n",
    "                <ul>\n",
    "                    <li>\n",
    "                        <Link to=\"/\">Home</Link>\n",
    "                         <Link to={\"/add\"}>Add</Link>\n",
    "                    </li>\n",
    "                </ul>\n",
    "                <Routes>\n",
    "                    <Route exact path={[\"/\", \"/api/cart-items\"]} component={App}>\n",
    "                    <Route exact path=\"/add\" component={Product}>\n",
    "                </Routes>\n",
    "            </BrowserRouter>\n",
    "        </>\n",
    "    )\n",
    "}\n",
    "\n",
    "```\n"
   ]
  },
  {
   "cell_type": "markdown",
   "metadata": {},
   "source": [
    "## React Routers\n",
    "\n",
    "**Installing router**\n",
    "\n",
    "We need to install the package so: `npm install react-router-dom`\n",
    "\n",
    "Now since we're placing these routers inside our *App.js* let's import:\n",
    "`import { BrowserRouter, Routes, Route } from 'react-router-dom';`\n",
    "\n"
   ]
  },
  {
   "cell_type": "code",
   "execution_count": null,
   "metadata": {},
   "outputs": [],
   "source": []
  }
 ],
 "metadata": {
  "language_info": {
   "name": "python"
  }
 },
 "nbformat": 4,
 "nbformat_minor": 2
}
