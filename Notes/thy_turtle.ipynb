{
 "cells": [
  {
   "cell_type": "markdown",
   "metadata": {},
   "source": [
    "# Yeu Thy \n",
    "\n",
    "---\n",
    "\n",
    "1) Import Turtle \n",
    "1) Creating Screen\n",
    "1) Create Turtle Object \n",
    "1) Create Heart Function \n",
    "1) Call function \n",
    "1) Display without shape \n",
    "\n",
    "---"
   ]
  },
  {
   "cell_type": "code",
   "execution_count": 1,
   "metadata": {},
   "outputs": [],
   "source": [
    "# Importing Turtle \n",
    "import turtle \n",
    "\n",
    "# # Creating Screen \n",
    "screen = turtle.Screen()\n",
    "\n",
    "# Creating Turtle Object \n",
    "my_thy = turtle.Turtle()\n",
    "my_thy.color('black')\n",
    "my_thy.speed(1)\n",
    "\n",
    "\n",
    "# Creating the Heart Function \n",
    "def draw_hrt():\n",
    "    # Always Begin Fill \n",
    "    my_thy.begin_fill() \n",
    "\n",
    "    # Run left and circle \n",
    "    my_thy.left(140)\n",
    "    my_thy.forward(180)\n",
    "    my_thy.circle(-90, 200)\n",
    "\n",
    "    # Building the right side \n",
    "    my_thy.left(120)\n",
    "    my_thy.circle(-90, 200)\n",
    "    my_thy.forward(180)\n",
    "    my_thy.end_fill()\n",
    "\n",
    "\n",
    "\n",
    "\n",
    "# Running the draw_hrt function\n",
    "draw_hrt()\n",
    "\n",
    "# Display without shape \n",
    "my_thy.hideturtle()\n",
    "screen.mainloop()   # Make sure its always running\n"
   ]
  }
 ],
 "metadata": {
  "kernelspec": {
   "display_name": "Python 3",
   "language": "python",
   "name": "python3"
  },
  "language_info": {
   "codemirror_mode": {
    "name": "ipython",
    "version": 3
   },
   "file_extension": ".py",
   "mimetype": "text/x-python",
   "name": "python",
   "nbconvert_exporter": "python",
   "pygments_lexer": "ipython3",
   "version": "3.12.4"
  }
 },
 "nbformat": 4,
 "nbformat_minor": 2
}
