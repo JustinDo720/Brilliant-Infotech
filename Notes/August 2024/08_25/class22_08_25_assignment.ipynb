{
 "cells": [
  {
   "cell_type": "markdown",
   "metadata": {},
   "source": [
    "# Class 22 Assignments \n",
    "\n",
    "----\n",
    "\n",
    "## Create arrow function having num as para and return factorial "
   ]
  },
  {
   "cell_type": "code",
   "execution_count": 3,
   "metadata": {},
   "outputs": [
    {
     "data": {
      "application/javascript": "\nfac = (num)=>{\n    // We're going to multiple this number with it's predecessor \n    let result = 1\n    while(num > 1){\n        // Because result is 1 by default, it will \"become\" the number first \n        result *= num\n        num--\n    }\n    return result\n}\n\ndocument.write(fac(5))\n",
      "text/plain": [
       "<IPython.core.display.Javascript object>"
      ]
     },
     "metadata": {},
     "output_type": "display_data"
    }
   ],
   "source": [
    "%%javascript\n",
    "\n",
    "fac = (num)=>{\n",
    "    // We're going to multiple this number with it's predecessor \n",
    "    let result = 1\n",
    "    while(num > 1){\n",
    "        // Because result is 1 by default, it will \"become\" the number first \n",
    "        result *= num\n",
    "        num--\n",
    "    }\n",
    "    return result\n",
    "}\n",
    "\n",
    "document.write(fac(5))"
   ]
  },
  {
   "cell_type": "markdown",
   "metadata": {},
   "source": [
    "## Print Fib Series using do-while loop "
   ]
  },
  {
   "cell_type": "code",
   "execution_count": null,
   "metadata": {
    "vscode": {
     "languageId": "javascript"
    }
   },
   "outputs": [],
   "source": [
    "// Fib Series (summation of the last two numbers)\n",
    "\n",
    "var num1 = 0, num2 = 1 \n",
    "result = null\n",
    "\n",
    "// we start on 2 because do-while will alread execute the first fib sequence \n",
    "fib_seq = 2\n",
    "requested_fib_seq = 100\n",
    "\n",
    "do {\n",
    "    result = num1 + num2\n",
    "    // now we just need to move our numbers forward \n",
    "    num1 = num2\n",
    "    num2 = result\n",
    "\n",
    "    // incrementing the fib_seq var for our while condition \n",
    "    fib_seq++\n",
    "    console.log(result + \"<br>\")\n",
    "} while(fib_seq < requested_fib_seq)"
   ]
  },
  {
   "cell_type": "markdown",
   "metadata": {},
   "source": [
    "## Arrow func take num aas arg and check if prime or not"
   ]
  },
  {
   "cell_type": "code",
   "execution_count": null,
   "metadata": {
    "vscode": {
     "languageId": "javascript"
    }
   },
   "outputs": [],
   "source": [
    "let user_num = 20;\n",
    "\n",
    "// prime is a number that can only be enevenly diveded by 1 and the number itself\n",
    "// no other divisors \n",
    "prime = (num) => {\n",
    "    if (num <= 1) {\n",
    "        return false\n",
    "    } else if (num === 2) {\n",
    "        return true \n",
    "    }\n",
    "\n",
    "    for (let i = 2; i < num; i++) { \n",
    "        if (n % i === 0) { \n",
    "            return false\n",
    "        }\n",
    "    }\n",
    "\n",
    "    return true \n",
    "}"
   ]
  }
 ],
 "metadata": {
  "kernelspec": {
   "display_name": ".venv",
   "language": "python",
   "name": "python3"
  },
  "language_info": {
   "codemirror_mode": {
    "name": "ipython",
    "version": 3
   },
   "file_extension": ".py",
   "mimetype": "text/x-python",
   "name": "python",
   "nbconvert_exporter": "python",
   "pygments_lexer": "ipython3",
   "version": "3.12.4"
  }
 },
 "nbformat": 4,
 "nbformat_minor": 2
}
