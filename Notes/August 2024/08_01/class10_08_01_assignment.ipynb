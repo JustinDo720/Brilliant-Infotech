{
 "cells": [
  {
   "cell_type": "markdown",
   "metadata": {},
   "source": [
    "## Class 10 Assignment\n",
    "\n",
    "### Validate Pin Code\n",
    "\n",
    "Indian Pin code: 6 Digits \n",
    "\n",
    "US Zip code: 5 Digits "
   ]
  },
  {
   "cell_type": "code",
   "execution_count": 3,
   "metadata": {},
   "outputs": [
    {
     "name": "stdout",
     "output_type": "stream",
     "text": [
      "['225038']\n",
      "['32058']\n"
     ]
    }
   ],
   "source": [
    "import re\n",
    "\n",
    "id_pin_code = \"225038\"\n",
    "id_reg = re.findall(r\"\\d{6}\", id_pin_code)\n",
    "print(id_reg)\n",
    "\n",
    "us_zip_code = \"32058\"\n",
    "us_reg = re.findall(r\"\\d{5}\", us_zip_code)\n",
    "print(us_reg)"
   ]
  },
  {
   "cell_type": "markdown",
   "metadata": {},
   "source": [
    "### Validate a user input Email address \n",
    "\n",
    "name.special20@company.domain"
   ]
  },
  {
   "cell_type": "code",
   "execution_count": 15,
   "metadata": {},
   "outputs": [
    {
     "name": "stdout",
     "output_type": "stream",
     "text": [
      "['muffin.do!@gmail.com']\n"
     ]
    }
   ],
   "source": [
    "import re\n",
    "\n",
    "email = input(\"Email Address: \")\n",
    "email_reg = re.findall(r\"[A-Za-z0-9.!]+[@]\\w+[.]\\w+\", email)\n",
    "print(email_reg)\n"
   ]
  }
 ],
 "metadata": {
  "kernelspec": {
   "display_name": "Python 3",
   "language": "python",
   "name": "python3"
  },
  "language_info": {
   "codemirror_mode": {
    "name": "ipython",
    "version": 3
   },
   "file_extension": ".py",
   "mimetype": "text/x-python",
   "name": "python",
   "nbconvert_exporter": "python",
   "pygments_lexer": "ipython3",
   "version": "3.12.4"
  }
 },
 "nbformat": 4,
 "nbformat_minor": 2
}
