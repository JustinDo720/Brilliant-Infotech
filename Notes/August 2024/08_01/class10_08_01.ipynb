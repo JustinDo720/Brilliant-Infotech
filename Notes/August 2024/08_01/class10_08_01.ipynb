{
 "cells": [
  {
   "cell_type": "markdown",
   "metadata": {},
   "source": [
    "# Class 10 \n",
    "\n",
    "---\n"
   ]
  },
  {
   "cell_type": "code",
   "execution_count": 31,
   "metadata": {},
   "outputs": [
    {
     "name": "stdout",
     "output_type": "stream",
     "text": [
      "['ai', 'ai']\n",
      "<re.Match object; span=(5, 7), match='ai'>\n",
      "The rAIn in SpAIn\n"
     ]
    }
   ],
   "source": [
    "import re \n",
    "s = \"The rain in Spain\"\n",
    "\n",
    "# Find all occurances of \"ai\" \n",
    "\n",
    "x=re.findall(\"ai\",s)\n",
    "print(x)\n",
    "\n",
    "sr = re.search(\"ai\", s)\n",
    "print(sr)\n",
    "\n",
    "r = re.sub(\"ai\", \"AI\", s)\n",
    "print(r)"
   ]
  },
  {
   "cell_type": "markdown",
   "metadata": {},
   "source": [
    "## Notes for class today \n",
    "\n",
    "*Regular Expression* checking for a **searched** pattern. We have `re` module \n",
    "\n",
    "`re` module \n",
    "- `findall()`   - Finall all occurances of the string \n",
    "- `search()`    - Gives position of first occurance start:stop so an extra one (similar to range)\n",
    "- `sub()`   - replaces \n",
    "\n",
    "```python\n",
    "import re \n",
    "s = \"The rain in Spain\"\n",
    "\n",
    "# Find all occurances of \"ai\" \n",
    "\n",
    "x=re.findall(\"ai\",s)\n",
    "print(x)\n",
    "```\n",
    "\n",
    "----\n",
    "\n",
    "### Metacharacters \n",
    "- `[]` set of characters \n",
    "    - `x=re.findall([a-mA-M0-9], s)`\n",
    "- `\\d` search for all digits in string \n",
    "    - `x=re.findall(\"\\d\", s)`\n",
    "- `.` search for any character \n",
    "    - `x=re.findall(\"ra.n\",s)`\n",
    "- `^` starts with a specific word/letter\n",
    "    - `x=re.findall(\"^W\",s)`\n",
    "- `$` ends with a specific word/letter \n",
    "    - `x=re.findall(\"Spain$\", s)`\n",
    "- `*` zero or more occurrences (word/letter)\n",
    "    - `x=re.findall(\"ain*\", s)`\n",
    "    - `x=re.findall(\".*\", s)`\n",
    "- `+` one occurrence \n",
    "    - `x=re.findall(\"hel.+o\", s)`\n",
    "- `?` 0 or one \n",
    "- `{}` specific occurrence \n",
    "    - `x=re.findall(\"he.{2}o\", s)\"`\n",
    "- `|` either words that exist in string \n",
    "    - `x=re.findall(\"hello|world\", s)`\n",
    "- `\\`\n",
    "    - `\\A` -> return list of beginning of string (like ^)\n",
    "    - `\\b` -> returns list of the end/beginning of every word\n",
    "        - `x=re.findall(r\"\\bain\", s)` \n",
    "        - `x=re.findall(r\"ain\\b\", s)`\n",
    "    - `\\d` -> return list where does contain digits\n",
    "    - `\\D` -> return list where DOES NOT contain digits\n",
    "    - `\\s` returns list of white spaces \n",
    "    - `\\S` returns list anything but white spaces\n",
    "    - `\\w` returns list word, digits, characters,\n",
    "    - `\\W` returns list of Non words, digits, characters \n",
    "\n",
    "- sets `[]`\n",
    "    - `x=re.findall([arm], s)` --> return everything that has \"arm\"\n",
    "    - `x=re.findall([!arm], s)` --> return everything BUT \"arm\"\n",
    "    - `x=re.findall([0-9][0-9], s)` --> checks for every two numbers \n"
   ]
  },
  {
   "cell_type": "code",
   "execution_count": 25,
   "metadata": {},
   "outputs": [
    {
     "name": "stdout",
     "output_type": "stream",
     "text": [
      "['+91-1422465980']\n",
      "['226002']\n"
     ]
    }
   ],
   "source": [
    "# Check if phone number is valid or not\n",
    "\n",
    "# Phone number: +91-XXXXXXXXX (ten digits)\n",
    "\n",
    "import re\n",
    "phone_number = '+91-1422465980'\n",
    "reg = re.findall(r\"\\+91-[0-9]{10}\",phone_number)\n",
    "print(reg)\n",
    "# reg2 = re.findall(r\"\\W\", phone_number)\n",
    "# print(reg2[0])\n",
    "\n",
    "# Better Reg \n",
    "# better_reg = re.findall(r\"^[+]91[-]{1}\\d{10}$\", phone_number)\n",
    "# print(better_reg)\n",
    "\n",
    "# Validate Pin Code\n",
    "# 226002    --> 6 digits \n",
    "pin_code = '226002'\n",
    "ping_reg = re.findall(r'\\d{6}',pin_code)\n",
    "print(ping_reg)\n",
    "\n",
    "# Homework:\n",
    "# Input email address then check "
   ]
  },
  {
   "cell_type": "code",
   "execution_count": 28,
   "metadata": {},
   "outputs": [
    {
     "data": {
      "text/plain": [
       "['+91-1422465980']"
      ]
     },
     "execution_count": 28,
     "metadata": {},
     "output_type": "execute_result"
    }
   ],
   "source": [
    "import re\n",
    "phone_number = '+91-1422465980'\n",
    "phone_reg = re.findall(r\"^[+]91[-]{1}\\d{10}$\", phone_number)\n",
    "phone_reg"
   ]
  },
  {
   "cell_type": "markdown",
   "metadata": {},
   "source": [
    "## Summary \n",
    "\n",
    "**Regular Expression** are used to search for **specific patterns** within a *string*\n",
    "\n",
    "We have three major functions within the `re` module:\n",
    "- `findall(\"pattern\",string)` -> returns a list to check for ALL matches \n",
    "- `search(\"pattern\", string)` -> returns the FIRST match \n",
    "- `sub(\"pattern\", 'replacement_str', string)` -> replaces the pattern with the replacement string \n",
    "\n",
    "**Usually** we use `findall(pattern, string)`\n",
    "\n",
    "Now we need to understand **metacharacters** to understand the **patterns**. Here are the *imporantant* ones (subjective):\n",
    "- `[]` | `[a-zA-Z0-9]` | `[@]` - Takes in a range or a specific character(s)\n",
    "- `^` | `^Beginning` | `^B` - Checks the beginning \n",
    "- `$` | `End$` | `d$` - Checks the end\n",
    "- `.` - Wild card \n",
    "- `|` | `Word1|Word2|Word3` - Checks for multiple words\n",
    "\n",
    "---\n",
    "\n",
    "**Occurances** is a big deal. Whether or now the character *appears* a certain time:\n",
    "- `+` | `/w+`-> those character(s)/words occur **one or more times** \n",
    "- `?` | `b?` -> those character(s)/words *occurs* or *doesn't* occur at all  **zero or one time**\n",
    "- `*` | `l*` -> those character(s)/words occurs **zero or more times**\n",
    "- `{num}` | `[0-9]{2}` -> those charcater(s)/words occurs a **specific time**\n",
    "\n",
    "---\n",
    "\n",
    "Slash metacharacters that require a `r'pattern\\d'` in front of the string:\n",
    "- `\\d` --> Looking for digits \n",
    "- `\\w` --> looking for words, characters, digits"
   ]
  }
 ],
 "metadata": {
  "kernelspec": {
   "display_name": "Python 3",
   "language": "python",
   "name": "python3"
  },
  "language_info": {
   "codemirror_mode": {
    "name": "ipython",
    "version": 3
   },
   "file_extension": ".py",
   "mimetype": "text/x-python",
   "name": "python",
   "nbconvert_exporter": "python",
   "pygments_lexer": "ipython3",
   "version": "3.12.4"
  }
 },
 "nbformat": 4,
 "nbformat_minor": 2
}
