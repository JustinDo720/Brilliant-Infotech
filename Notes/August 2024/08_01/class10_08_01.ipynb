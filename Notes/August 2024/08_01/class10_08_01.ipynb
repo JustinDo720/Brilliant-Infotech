{
 "cells": [
  {
   "cell_type": "markdown",
   "metadata": {},
   "source": [
    "# Class 10 \n",
    "\n",
    "---\n"
   ]
  },
  {
   "cell_type": "code",
   "execution_count": 5,
   "metadata": {},
   "outputs": [
    {
     "name": "stdout",
     "output_type": "stream",
     "text": [
      "['ai', 'ai']\n",
      "<re.Match object; span=(5, 7), match='ai'>\n"
     ]
    },
    {
     "ename": "TypeError",
     "evalue": "sub() missing 1 required positional argument: 'string'",
     "output_type": "error",
     "traceback": [
      "\u001b[1;31m---------------------------------------------------------------------------\u001b[0m",
      "\u001b[1;31mTypeError\u001b[0m                                 Traceback (most recent call last)",
      "Cell \u001b[1;32mIn[5], line 12\u001b[0m\n\u001b[0;32m      9\u001b[0m s \u001b[38;5;241m=\u001b[39m re\u001b[38;5;241m.\u001b[39msearch(\u001b[38;5;124m\"\u001b[39m\u001b[38;5;124mai\u001b[39m\u001b[38;5;124m\"\u001b[39m, s)\n\u001b[0;32m     10\u001b[0m \u001b[38;5;28mprint\u001b[39m(s)\n\u001b[1;32m---> 12\u001b[0m r \u001b[38;5;241m=\u001b[39m \u001b[43mre\u001b[49m\u001b[38;5;241;43m.\u001b[39;49m\u001b[43msub\u001b[49m\u001b[43m(\u001b[49m\u001b[38;5;124;43m\"\u001b[39;49m\u001b[38;5;124;43mai\u001b[39;49m\u001b[38;5;124;43m\"\u001b[39;49m\u001b[43m,\u001b[49m\u001b[43m \u001b[49m\u001b[43ms\u001b[49m\u001b[43m)\u001b[49m\n\u001b[0;32m     13\u001b[0m \u001b[38;5;28mprint\u001b[39m(r)\n",
      "\u001b[1;31mTypeError\u001b[0m: sub() missing 1 required positional argument: 'string'"
     ]
    }
   ],
   "source": [
    "import re \n",
    "s = \"The rain in Spain\"\n",
    "\n",
    "# Find all occurances of \"ai\" \n",
    "\n",
    "x=re.findall(\"ai\",s)\n",
    "print(x)\n",
    "\n",
    "s = re.search(\"ai\", s)\n",
    "print(s)\n",
    "\n",
    "r = re.sub(\"ai\", s)\n",
    "print(r)"
   ]
  },
  {
   "cell_type": "markdown",
   "metadata": {},
   "source": [
    "## Notes for class today \n",
    "\n",
    "*Regular Expression* checking for a **searched** pattern. We have `re` module \n",
    "\n",
    "`re` module \n",
    "- `findall()`   - Finall all occurances of the string \n",
    "- `search()`    - Gives position of first occurance start:stop so an extra one (similar to range)\n",
    "- `sub()`   - replaces \n",
    "\n",
    "```python\n",
    "import re \n",
    "s = \"The rain in Spain\"\n",
    "\n",
    "# Find all occurances of \"ai\" \n",
    "\n",
    "x=re.findall(\"ai\",s)\n",
    "print(x)\n",
    "```\n",
    "\n",
    "----\n",
    "\n",
    "### Metacharacters \n",
    "- `[]` set of characters \n",
    "    - `x=re.findall([a-mA-M0-9], s)`\n",
    "- `\\d` search for all digits in string \n",
    "    - `x=re.findall(\"\\d\", s)`\n",
    "- `.` search for any character \n",
    "    - `x=re.findall(\"ra.n\",s)`\n",
    "- `^` starts with a specific word/letter\n",
    "    - `x=re.findall(\"^W\",s)`\n",
    "- `$` ends with a specific word/letter \n",
    "    - `x=re.findall(\"Spain$\", s)`\n",
    "- `*` zero or more occurrences (word/letter)\n",
    "    - `x=re.findall(\"ain*\", s)`\n",
    "    - `x=re.findall(\".*\", s)`\n",
    "- `+` one occurrence \n",
    "    - `x=re.findall(\"hel.+o\", s)`\n",
    "- `?` 0 or one \n",
    "- `{}` specific occurrence \n",
    "    - `x=re.findall(\"he.{2}o\", s)\"`\n",
    "- `|` either words that exist in string \n",
    "    - `x=re.findall(\"hello|world\", s)`\n",
    "- `\\`\n",
    "    - `\\A` -> return list of beginning of string (like ^)\n",
    "    - `\\b` -> returns list of the end/beginning of every word\n",
    "        - `x=re.findall(r\"\\bain\", s)` \n",
    "        - `x=re.findall(r\"ain\\b\", s)`\n",
    "    - `\\d` -> return list where does contain digits\n",
    "    - `\\D` -> return list where DOES NOT contain digits\n",
    "    - `\\s` returns list of white spaces \n",
    "    - `\\S` returns list anything but white spaces\n",
    "    - `\\w` returns list word, digits, characters,\n",
    "    - `\\W` returns list of Non words, digits, characters \n",
    "\n",
    "- sets `[]`\n",
    "    - `x=re.findall([arm], s)` --> return everything that has \"arm\"\n",
    "    - `x=re.findall([!arm], s)` --> return everything BUT \"arm\"\n",
    "    - `x=re.findall([0-9][0-9], s)` --> checks for every two numbers \n"
   ]
  },
  {
   "cell_type": "code",
   "execution_count": 25,
   "metadata": {},
   "outputs": [
    {
     "name": "stdout",
     "output_type": "stream",
     "text": [
      "['+91-1422465980']\n",
      "['226002']\n"
     ]
    }
   ],
   "source": [
    "# Check if phone number is valid or not\n",
    "\n",
    "# Phone number: +91-XXXXXXXXX (ten digits)\n",
    "\n",
    "import re\n",
    "phone_number = '+91-1422465980'\n",
    "reg = re.findall(r\"\\+91-[0-9]{10}\",phone_number)\n",
    "print(reg)\n",
    "# reg2 = re.findall(r\"\\W\", phone_number)\n",
    "# print(reg2[0])\n",
    "\n",
    "# Better Reg \n",
    "# better_reg = re.findall(r\"^[+]91[-]{1}\\d{10}$\", phone_number)\n",
    "# print(better_reg)\n",
    "\n",
    "# Validate Pin Code\n",
    "# 226002    --> 6 digits \n",
    "pin_code = '226002'\n",
    "ping_reg = re.findall(r'\\d{6}',pin_code)\n",
    "print(ping_reg)\n",
    "\n",
    "# Homework:\n",
    "# Input email address then check "
   ]
  },
  {
   "cell_type": "code",
   "execution_count": null,
   "metadata": {},
   "outputs": [],
   "source": [
    "email = input(\"Email Address: \")"
   ]
  }
 ],
 "metadata": {
  "kernelspec": {
   "display_name": "Python 3",
   "language": "python",
   "name": "python3"
  },
  "language_info": {
   "codemirror_mode": {
    "name": "ipython",
    "version": 3
   },
   "file_extension": ".py",
   "mimetype": "text/x-python",
   "name": "python",
   "nbconvert_exporter": "python",
   "pygments_lexer": "ipython3",
   "version": "3.12.4"
  }
 },
 "nbformat": 4,
 "nbformat_minor": 2
}
