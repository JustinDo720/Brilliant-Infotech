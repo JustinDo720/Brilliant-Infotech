{
 "cells": [
  {
   "cell_type": "markdown",
   "metadata": {},
   "source": [
    "## Calcuator with  Tkinter\n",
    "\n",
    "\n",
    "**Two input fields** with **operations buttons**. Based on the operation button, the answer will display the *added*, *subtracted* or *divided* value \n",
    "\n",
    "---"
   ]
  },
  {
   "cell_type": "code",
   "execution_count": 1,
   "metadata": {},
   "outputs": [],
   "source": [
    "import tkinter \n",
    "\n",
    "# Creating Root \n",
    "root = tkinter.Tk() \n",
    "\n",
    "# Operation Functions \n",
    "def add():\n",
    "    result = str(int(num_1.get()) + int(num_2.get()))\n",
    "    operation_lb.config(text='+')\n",
    "    ans_display.config(text=result)\n",
    "\n",
    "\n",
    "def sub():\n",
    "    result = str(int(num_1.get()) - int(num_2.get()))\n",
    "    operation_lb.config(text='-')\n",
    "    ans_display.config(text=result)\n",
    "\n",
    "def divide():\n",
    "    result = str(int(num_1.get()) / int(num_2.get()))\n",
    "    operation_lb.config(text='/')\n",
    "    ans_display.config(text=result)\n",
    "\n",
    "\n",
    "# Two input fields with labels \n",
    "num_1 = tkinter.Entry(root)\n",
    "operation_lb = tkinter.Label(root, text='choose operation')\n",
    "num_2 = tkinter.Entry(root)\n",
    "equal_lb = tkinter.Label(root, text='=')\n",
    "ans_display = tkinter.Label(root, text='answer')\n",
    "\n",
    "num_1.grid(row=0, column=1)\n",
    "operation_lb.grid(row=0, column=2)\n",
    "num_2.grid(row=0, column=3)\n",
    "equal_lb.grid(row=0, column=4)\n",
    "ans_display.grid(row=0, column=5)\n",
    "\n",
    "# Operation Buttons \n",
    "add_btn = tkinter.Button(root, text='+', command=add)\n",
    "sub_btn = tkinter.Button(root, text='-', command=sub)\n",
    "div_btn = tkinter.Button(root, text='/', command=divide)\n",
    "\n",
    "add_btn.grid(row=1, column=1)\n",
    "sub_btn.grid(row=1, column=2)\n",
    "div_btn.grid(row=1, column=3)\n",
    "\n",
    "root.mainloop()"
   ]
  }
 ],
 "metadata": {
  "kernelspec": {
   "display_name": "Python 3",
   "language": "python",
   "name": "python3"
  },
  "language_info": {
   "codemirror_mode": {
    "name": "ipython",
    "version": 3
   },
   "file_extension": ".py",
   "mimetype": "text/x-python",
   "name": "python",
   "nbconvert_exporter": "python",
   "pygments_lexer": "ipython3",
   "version": "3.12.4"
  }
 },
 "nbformat": 4,
 "nbformat_minor": 2
}
