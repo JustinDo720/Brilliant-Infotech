{
 "cells": [
  {
   "cell_type": "markdown",
   "metadata": {},
   "source": [
    "# Class 15 Assignment \n",
    "\n",
    "\n",
    "## Here's a table:\n",
    "\n",
    "| customer_id | cust_name | city | grade | salesman_id |\n",
    "| ----------- | --------- | ---- | ----- | ----------- |\n",
    "| 3002 | Nick Rimando | New York | 100 | 5001 |\n",
    "| 3007 | Brad Davis | New York | 200 | 5001 |\n",
    "| 3005 | Graham Zusi | California | 200 | 5002 |\n",
    "\n",
    "| ------------------------------------------- |\n",
    "\n",
    "| salesman_id | name | city | commission |\n",
    "| ----------- | ---- | ---- | ---------- |\n",
    "| 50001 | James Hoog | New York | 0.15 |\n",
    "| 50002 | Nail Knite | Paris | 0.13|\n",
    "\n",
    "\n",
    "## Two questions:\n",
    "\n",
    " 1) From the following tables write a SQL query to find those customers with a grade less than 300. Return cust_name, customer city, grade, Salesman, salesmancity. The result should be ordered by ascending customer_id. \n",
    "\n",
    "2) write a SQL query to locate those salespeople who do not live in the same city where their customers live and have received a commission of more than 12% from the company.\n",
    "\n",
    "\n",
    "## Basically...\n",
    "\n",
    "1) Find Customers with **grade less than 300**. \n",
    "    - Return: customer name, customer city, customer grade\n",
    "    - Return: Salesman, Salesman City\n",
    "    - Ascending Customer_Id\n",
    "\n",
    "2) Find salespeople who **don't live in the same city** as customer\n",
    "    - more than 12% of commission \n",
    "\n",
    "\n",
    "## Let's build our two tables with a link to (salesman_id) foreign key\n",
    "\n",
    "```sql\n",
    "\n",
    "-- Using our main database\n",
    "USE brilliant_infotech;\n",
    "\n",
    "-- Creating our Salesman table (parent table)\n",
    "CREATE TABLE salesman_3(\n",
    "    salesman_id INT PRIMARY KEY AUTO_INCREMENT,\n",
    "    sal_name VARCHAR(50),\n",
    "    city VARCHAR(50),\n",
    "    commission FLOAT\n",
    ");\n",
    "\n",
    "-- Creating our Customer table (child table)\n",
    "CREATE TABLE customer_3(\n",
    "    customer_id INT PRIMARY KEY AUTO_INCREMENT,\n",
    "    cust_name VARCHAR(50),\n",
    "    city VARCHAR(50),\n",
    "    grade INT,\n",
    "    -- Foreign Key assignment to salesman_3 parent table\n",
    "    sal_id INT,\n",
    "    FOREIGN KEY(sal_id)\n",
    "    REFERENCES salesman_3(salesman_id)\n",
    ");\n",
    "\n",
    "-- Insert testing data \n",
    "INSERT INTO salesman3(salesman_name, city, commission)\n",
    "VALUES ('James Hoog', 'New York', 0.15), ('Nail Knite', 'Paris', 0.13);\n",
    "\n",
    "INSERT INTO customer(cust_name, city, grade, sal_id)\n",
    "VALUES ('Nick Rimando', 'New York', 100, 1), ('Brad Davis', 'New York', 200, 1), ('Graham Zusi', 'Cali', 200, 2);\n",
    "\n",
    "\n",
    "```\n",
    "\n",
    " "
   ]
  },
  {
   "cell_type": "code",
   "execution_count": null,
   "metadata": {
    "vscode": {
     "languageId": "sql"
    }
   },
   "outputs": [],
   "source": [
    "-- Find Customers with Grade less than 300\n",
    "-- Return customer name, city and grade \n",
    "-- Return salesman, salesman city \n",
    "-- Ascend customer id \n",
    "\n",
    "-- Right Join (Customer) then see what grade is less than 300 \n",
    "SELECT customer_id, cust_name, customer_3.city, grade, sal_name, salesman_3.city\n",
    "FROM salesman_3\n",
    "RIGHT JOIN customer_3\n",
    "ON salesman_3.salesman_id = customer_3.sal_id\n",
    "WHERE grade > 300\n",
    "ORDER BY customer_id ASC;"
   ]
  },
  {
   "cell_type": "code",
   "execution_count": null,
   "metadata": {
    "vscode": {
     "languageId": "sql"
    }
   },
   "outputs": [],
   "source": [
    "-- Salespeople who don't live in the same city as customer \n",
    "-- more than 12%\n",
    "\n",
    "-- LEFT join (Salesman) we're mainly looking at the salespeople\n",
    "SELECT sal_name, salesman_3.city AS \"Salesman City\", commission, cust_name, customer_3.city AS \"Customer City\"\n",
    "FROM salesman_3 \n",
    "AND commission > 0.12\n",
    "LEFT JOIN customer_3\n",
    "ON salesman_3.salesman_id = customer_3.sal_id\n",
    "WHERE salesman_3.city <> customer_3.city;\n",
    "\n",
    "-- If we're just looking at the count\n",
    "SELECT sal_name, count(*) as \"Number of Customers\"\n",
    "FROM salesman_3 \n",
    "AND commission > 0.12\n",
    "LEFT JOIN customer_3\n",
    "ON salesman_3.salesman_id = customer_3.sal_id\n",
    "WHERE salesman_3.city <> customer_3.city\n",
    "GROUP BY sal_name;"
   ]
  }
 ],
 "metadata": {
  "kernelspec": {
   "display_name": "Python 3",
   "language": "python",
   "name": "python3"
  },
  "language_info": {
   "codemirror_mode": {
    "name": "ipython",
    "version": 3
   },
   "file_extension": ".py",
   "mimetype": "text/x-python",
   "name": "python",
   "nbconvert_exporter": "python",
   "pygments_lexer": "ipython3",
   "version": "3.12.4"
  }
 },
 "nbformat": 4,
 "nbformat_minor": 2
}
