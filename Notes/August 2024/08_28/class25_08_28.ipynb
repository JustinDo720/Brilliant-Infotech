{
 "cells": [
  {
   "cell_type": "markdown",
   "metadata": {},
   "source": [
    "# Class 25 \n",
    "\n",
    "---\n",
    "\n",
    "React.js\n"
   ]
  },
  {
   "cell_type": "code",
   "execution_count": null,
   "metadata": {},
   "outputs": [],
   "source": []
  },
  {
   "cell_type": "markdown",
   "metadata": {},
   "source": [
    "**React**\n",
    "\n",
    "Reusable components used to make single page applications that oesnt need to be refreshed\n",
    "\n",
    "Virutal Dom --> lightweight copy (changes in state virutal dom then gets pushed to the dom)\n",
    "\n",
    "---\n",
    "`npm install -g create-react-app`\n",
    "\n",
    "`npx create-react-app`\n",
    "\n",
    "Consist of componenets \n",
    "- Class based \n",
    "- Functional components\n",
    "\n",
    "`npm start` to start the server\n",
    "\n",
    "---\n",
    "\n",
    "**JSX**\n",
    "is the code within the functional compoenent approach \n",
    "\n",
    "\n",
    "**Props**\n",
    "\n",
    "adding attribute to your app\n",
    "`<Demo num={12}>`\n",
    "\n",
    "---\n",
    "\n",
    "**Conditionally render js**\n",
    "\n",
    "```js\n",
    "import MissedGoal from \"./MissedGoal\";\n",
    "import MadeGoal from \"./MadeGoal\";\n",
    " \n",
    "function Demo(props)\n",
    "{\n",
    "   \n",
    "   if(props.goal)\n",
    "   {\n",
    "    return <MadeGoal></MadeGoal>\n",
    "   }else{\n",
    "    return <MissedGoal></MissedGoal>\n",
    "   }\n",
    " \n",
    "   \n",
    "   \n",
    "}\n",
    " \n",
    "export default Demo;\n",
    "```\n",
    "---\n",
    "\n",
    "### Assignment\n",
    "\n",
    "Create a button which when clicked should display the square of props value\n",
    "\n",
    "Update Bus Reservation Project \n",
    "- Bus seat (if fully reserved remove from tree view )"
   ]
  }
 ],
 "metadata": {
  "language_info": {
   "name": "python"
  }
 },
 "nbformat": 4,
 "nbformat_minor": 2
}
