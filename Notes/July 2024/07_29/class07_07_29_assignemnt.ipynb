{
 "cells": [
  {
   "cell_type": "markdown",
   "metadata": {},
   "source": [
    "**Assignments:**\n",
    "\n",
    "Write a Python class which has two methods get_String and print_String. get_String accept a string from the user and print_String print the string in upper case"
   ]
  },
  {
   "cell_type": "code",
   "execution_count": 2,
   "metadata": {},
   "outputs": [
    {
     "name": "stdout",
     "output_type": "stream",
     "text": [
      "MY TESTING WORD\n"
     ]
    }
   ],
   "source": [
    "class ConvertStr:\n",
    "\n",
    "    def __init__(self):\n",
    "        self.word = None \n",
    "\n",
    "    def get_String(self, user_word):\n",
    "        self.word = user_word\n",
    "    \n",
    "    def print_String(self):\n",
    "        print(self.word.upper())\n",
    "\n",
    "\n",
    "my_obj = ConvertStr()\n",
    "my_obj.get_String(\"My Testing Word\")\n",
    "my_obj.print_String()"
   ]
  },
  {
   "cell_type": "markdown",
   "metadata": {},
   "source": []
  }
 ],
 "metadata": {
  "kernelspec": {
   "display_name": "Python 3",
   "language": "python",
   "name": "python3"
  },
  "language_info": {
   "codemirror_mode": {
    "name": "ipython",
    "version": 3
   },
   "file_extension": ".py",
   "mimetype": "text/x-python",
   "name": "python",
   "nbconvert_exporter": "python",
   "pygments_lexer": "ipython3",
   "version": "3.12.4"
  }
 },
 "nbformat": 4,
 "nbformat_minor": 2
}
