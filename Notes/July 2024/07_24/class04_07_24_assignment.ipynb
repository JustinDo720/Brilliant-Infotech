{
 "cells": [
  {
   "cell_type": "markdown",
   "metadata": {},
   "source": [
    "# Assignments for 07/25/24\n",
    "\n",
    "---\n",
    "\n",
    "### WAP to print the square of all elements of a list and return a new list \n",
    "\n",
    "**i.e:**\n",
    "- Input: `[2,4,6,8]`\n",
    "- Output: `[4,16,36,64]`"
   ]
  },
  {
   "cell_type": "code",
   "execution_count": 2,
   "metadata": {},
   "outputs": [
    {
     "name": "stdout",
     "output_type": "stream",
     "text": [
      "[4, 16, 36, 64]\n"
     ]
    }
   ],
   "source": [
    "user_lst = eval(input(\"List of numbers (Make sure to use []): \"))\n",
    "sq_user_lst = []\n",
    "for num in user_lst:\n",
    "    sq_user_lst.append(num**2)\n",
    "\n",
    "print(sq_user_lst)"
   ]
  },
  {
   "cell_type": "markdown",
   "metadata": {},
   "source": [
    "### WAP2 to print unique elements from a list\n",
    "\n",
    "**i.e:**\n",
    "- Input: `[2,4,2,6,8,6]`\n",
    "- Output: `[2,4,6,8]`"
   ]
  },
  {
   "cell_type": "code",
   "execution_count": 3,
   "metadata": {},
   "outputs": [
    {
     "name": "stdout",
     "output_type": "stream",
     "text": [
      "[2, 4, 6, 8]\n"
     ]
    }
   ],
   "source": [
    "user_lst = eval(input(\"List of numbers (Make sure to use []): \"))\n",
    "unique_elements = []\n",
    "\n",
    "for num in user_lst:\n",
    "    if num not in unique_elements:\n",
    "        unique_elements.append(num)\n",
    "\n",
    "print(unique_elements)"
   ]
  },
  {
   "cell_type": "code",
   "execution_count": 15,
   "metadata": {},
   "outputs": [
    {
     "name": "stdout",
     "output_type": "stream",
     "text": [
      "[2, 4, 6, 8, 6, 8]\n"
     ]
    }
   ],
   "source": [
    "# Algorithmically \n",
    "user_lst = eval(input(\"List of numbers (Make sure to use []): \"))\n",
    "\n",
    "# We need this list to be sorted in order to work \n",
    "user_lst.sort()\n",
    "\n",
    "# It's all about swapping pointers \n",
    "# We start with the left pointer sitting on the second index \n",
    "lp = 1 \n",
    "\n",
    "# Our right pointer will iterate through the list starting at the second element\n",
    "# Mainly because we don't need to worry about the first element (it will always be the smallest and start of our in-place list)\n",
    "# We're going to iterate based on the number of numbers in that list  \n",
    "# REMEMBER: range(len(lst)) means that the final index is len(lst) - 1 => also the final element because count starts at 0\n",
    "for rp in range(lp, len(user_lst)):\n",
    "    # Searching for the newest element (the non-duplicate)\n",
    "    if user_lst[rp] != user_lst[rp-1]:\n",
    "        # If there is a new element then we replace the left pointer's value with the right pointers value\n",
    "        user_lst[lp] = user_lst[rp]\n",
    "        # Continue the lp to be replaced whenever we find a new element \n",
    "        lp += 1 \n",
    "\n",
    "print(user_lst)"
   ]
  },
  {
   "cell_type": "code",
   "execution_count": 13,
   "metadata": {},
   "outputs": [
    {
     "name": "stdout",
     "output_type": "stream",
     "text": [
      "1\n",
      "2\n",
      "3\n",
      "4\n",
      "5\n",
      "6\n"
     ]
    },
    {
     "data": {
      "text/plain": [
       "6"
      ]
     },
     "execution_count": 13,
     "metadata": {},
     "output_type": "execute_result"
    }
   ],
   "source": [
    "user_list = [1,2,3,4,5,6]\n",
    "\n",
    "# Even though the range here is range(0,6) --> 0,1,2,3,4,5\n",
    "# the 5th index is value 6 \n",
    "for i in range(len(user_list)):\n",
    "    print(user_list[i])\n",
    "\n",
    "user_list[5]"
   ]
  },
  {
   "cell_type": "markdown",
   "metadata": {},
   "source": [
    "### WAP3 to take value as input from user and check if it exits in a list or not\n",
    "\n",
    "**i.e:**\n",
    "- Input: `[2,4,6,8]`\n",
    "- User Input: `2`\n",
    "- Output: `True`"
   ]
  },
  {
   "cell_type": "code",
   "execution_count": 7,
   "metadata": {},
   "outputs": [
    {
     "name": "stdout",
     "output_type": "stream",
     "text": [
      "Your number:  2  exists within the given list.\n"
     ]
    }
   ],
   "source": [
    "user_lst = eval(input(\"List of numbers (Make sure to use []): \"))\n",
    "user_input = int(input(\"Your number to search within the list: \"))\n",
    "\n",
    "if user_input in user_lst:\n",
    "    print(\"Your number: \",  str(user_input), \" exists within the given list.\")\n",
    "else:\n",
    "    print(\"Your number: \", str(user_input), \" does not exist within the given list.\")"
   ]
  }
 ],
 "metadata": {
  "kernelspec": {
   "display_name": "Python 3",
   "language": "python",
   "name": "python3"
  },
  "language_info": {
   "codemirror_mode": {
    "name": "ipython",
    "version": 3
   },
   "file_extension": ".py",
   "mimetype": "text/x-python",
   "name": "python",
   "nbconvert_exporter": "python",
   "pygments_lexer": "ipython3",
   "version": "3.12.4"
  }
 },
 "nbformat": 4,
 "nbformat_minor": 2
}
