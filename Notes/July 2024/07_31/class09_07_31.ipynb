{
 "cells": [
  {
   "cell_type": "markdown",
   "metadata": {},
   "source": [
    "# Class 9 \n",
    "\n",
    "---\n",
    "\n",
    "Exception Handling, Try Except Finally Block, Custom Exception Class"
   ]
  },
  {
   "cell_type": "markdown",
   "metadata": {},
   "source": [
    "## Notes for today \n",
    "\n",
    "**Exception Handling**\n",
    "- Error during run time\n",
    "- Exception is managed and other lines of code execute \n",
    "    - Try and Except clause \n",
    "- **Built-in** exceptions classes:\n",
    "    - ZeroDivisionError \n",
    "    - FileExceptionError \n",
    "        - Inherit *root* **Exception** class\n",
    "\n",
    "\n",
    "```python\n",
    "\n",
    "try:\n",
    "    print(8/0)\n",
    "# Exception class\n",
    "except ZeroDivisonError as ze:\n",
    "    # Exception message: It doesn't crash the program but gives a message \n",
    "    print(ze)\n",
    "\n",
    "# This will still run\n",
    "print(\"Hello\")\n",
    "\n",
    "# File handling \n",
    "try:\n",
    "    file=open('nonexistent_file.txt')\n",
    "except FileNotFoundError as z:\n",
    "    print(z)\n",
    "\n",
    "print(\"Welcome\")\n",
    "\n",
    "```"
   ]
  },
  {
   "cell_type": "code",
   "execution_count": 12,
   "metadata": {},
   "outputs": [
    {
     "name": "stdout",
     "output_type": "stream",
     "text": [
      "[Errno 2] No such file or directory: 'nonexistent_file.txt'\n"
     ]
    }
   ],
   "source": [
    "try:\n",
    "    file=open('nonexistent_file.txt')\n",
    "except FileNotFoundError as z:\n",
    "    print(z)"
   ]
  },
  {
   "cell_type": "markdown",
   "metadata": {},
   "source": [
    "### Multiple Exceptions\n",
    "\n",
    "Just pass the exceptions as a **Tuple**\n",
    "\n",
    "```python\n",
    "\n",
    "try:\n",
    "    file = open(\"nonexistent_file.txt\")\n",
    "    print(7/0)\n",
    "except (FileNotFoundError, ZeroDivisonError) as fe:\n",
    "    print(fe)\n",
    "```\n"
   ]
  },
  {
   "cell_type": "code",
   "execution_count": 13,
   "metadata": {},
   "outputs": [],
   "source": [
    "# ZeroDivisionError --> Dividing by 0 \n",
    "# TypeError --> Operations performed on different types \n",
    "# ValueError --> Performing operation that doesn't exist\n",
    "\n",
    "\n",
    "def divide_num(lst):\n",
    "    for num in list:\n",
    "        try:\n",
    "            print(10/num)\n",
    "        except ZeroDivisionError as ze:\n",
    "            print(ze)\n",
    "        except TypeError as te:\n",
    "            print(te)\n",
    "\n",
    "\n",
    "lst = [5,6,0,'a',7]"
   ]
  },
  {
   "cell_type": "markdown",
   "metadata": {},
   "source": [
    "### Finally in python exception \n",
    "\n",
    "\n",
    "Want something to **always** occur. Anything within the *finally* block will *always* execute. \n",
    "- **try** keyword must always be present \n",
    "- **finally** block will execute even if there's a **return**, **break**, **continue** statement \n",
    "    - important to **always** happen like closing a database connection\n",
    "\n",
    "```python\n",
    "\n",
    "try:\n",
    "    print(9/0)\n",
    "except ZeroDivisionError as ze:\n",
    "    print(ze)\n",
    "finally:\n",
    "    # This will always run\n",
    "    print(\"Rest of code\")\n",
    "```\n",
    "\n",
    "---\n",
    "\n",
    "### Raising an exception \n",
    "\n",
    "Manually raise an exception. On your choice you'll make an exception \n",
    "\n",
    "```python\n",
    "\n",
    "age = int(input(\"Enter the age\"))\n",
    "\n",
    "try:\n",
    "    if age < 18:\n",
    "        # Throw exception is age is less than 18 \n",
    "        # No built in exception, so we override constructor to give our own message\n",
    "        raise ValueError(\"Age is invalid\")  # message \n",
    "    else:\n",
    "        print(\"welcome\")\n",
    "# Handle our exception \n",
    "except ValueError as ve:\n",
    "    # All exceptions are classes only, so you could override message \n",
    "    print(ve)\n",
    "```\n",
    "\n",
    "---\n",
    "\n",
    "### Creating our own exception \n",
    "\n",
    "Remember exceptions are **classes** so..."
   ]
  },
  {
   "cell_type": "code",
   "execution_count": 14,
   "metadata": {},
   "outputs": [
    {
     "name": "stdout",
     "output_type": "stream",
     "text": [
      "Age is less than 18\n"
     ]
    }
   ],
   "source": [
    "# Must inherit the Base Exception class \n",
    "class AgeInvalidException(Exception):\n",
    "    def __init__(self, msg):\n",
    "        # assigning val to class variable \n",
    "        self.msg = msg \n",
    "        # Override base Exception constructor with our own message\n",
    "        super().__init__(msg)\n",
    "\n",
    "def check_age(age):\n",
    "    if age < 18:\n",
    "        raise AgeInvalidException(\"Age is less than 18\")\n",
    "    else:\n",
    "        print(\"Wecome\")\n",
    "\n",
    "# It's better to handle the exception when calling the function \n",
    "try:\n",
    "    check_age(15)\n",
    "except AgeInvalidException as ae:\n",
    "    print(ae)\n",
    "    "
   ]
  },
  {
   "cell_type": "code",
   "execution_count": 15,
   "metadata": {},
   "outputs": [
    {
     "name": "stdout",
     "output_type": "stream",
     "text": [
      "Your book is not within our list of books\n",
      "\n",
      "Your book as been found\n"
     ]
    }
   ],
   "source": [
    "# Create Exception called BookNotFound: Raised if book is not found from list of books \n",
    "\n",
    "class BookNotFound(Exception):\n",
    "    def __init__(self, msg):\n",
    "        self.msg = msg \n",
    "        super().__init__(msg)\n",
    "    \n",
    "lst_of_books = books = [\n",
    "    \"To Kill a Mockingbird by Harper Lee\",\n",
    "    \"1984 by George Orwell\",\n",
    "    \"Pride and Prejudice by Jane Austen\",\n",
    "    \"The Great Gatsby by F. Scott Fitzgerald\",\n",
    "]\n",
    "\n",
    "def check_book(book_name):\n",
    "    if book_name not in lst_of_books:\n",
    "        raise BookNotFound(\"Your book is not within our list of books\")\n",
    "    else:\n",
    "        print(\"Your book as been found\")\n",
    "    \n",
    "try:\n",
    "    check_book(\"Not within List\")\n",
    "except BookNotFound as bnf:\n",
    "    print(bnf)\n",
    "\n",
    "print() \n",
    "\n",
    "try:\n",
    "    check_book(\"To Kill a Mockingbird by Harper Lee\")\n",
    "except BookNotFound as bnf:\n",
    "    print(bnf)"
   ]
  },
  {
   "cell_type": "code",
   "execution_count": 16,
   "metadata": {},
   "outputs": [
    {
     "name": "stdout",
     "output_type": "stream",
     "text": [
      "4.0\n",
      "\n",
      "division by zero\n"
     ]
    }
   ],
   "source": [
    "# Write a program that divides two numbers: if divide by 0 raise DivideByZeroError \n",
    "\n",
    "def divide_two_numbers(num1,num2):\n",
    "    try:\n",
    "        print(num1/num2)\n",
    "    except ZeroDivisionError as ze: \n",
    "        print(ze)\n",
    "\n",
    "divide_two_numbers(20,5)\n",
    "print()\n",
    "divide_two_numbers(20,0)"
   ]
  },
  {
   "cell_type": "markdown",
   "metadata": {},
   "source": [
    "## Summary \n",
    "\n",
    "**Exception handling**\n",
    "\n",
    "There may be some **errors** during the runtime and *exception handling* allows us to *manage* other lines of codes.\n",
    "\n",
    "We accomplish this with a `try except` block:\n",
    "- `try:` - has the code we're **expecting** to possbily fail \n",
    "- `except:` - once it fails, we're going to perform this action\n",
    "- `finally:` - always run a piece of code regardless of the try-except outcome \n",
    "\n",
    "Now we must remember that a `try except finally` block must **always** have a `try` block \n",
    "\n",
    "There are **built-in** exception classes that all stems from the parent class `Exception`. We must note that all exceptions are **Classes** so we could override and manipulate these exception classes.\n",
    "\n",
    "Some **built-in** exceptions:\n",
    "- `TypeError` when we're performing operations on different **data types**\n",
    "- `ZeroDivisionError` dividing by a 0 integer \n",
    "- `ValueError` if that value doesn't exist during execution of our code \n",
    "- `FileNotFoundError` if that file we're opening doesn't exist \n",
    "\n",
    "---\n",
    "\n",
    "**Mutliple Exceptions**\n",
    "\n",
    "We could except multiple Errors by putting more `except` blocks or providing a tuple `except (FileNotFoundError, ZeroDivisionError) as fe_ze` \n",
    "\n",
    "**NOTE:** this means that the **first error** it runs into will, we will handle that error **and that error only**\n",
    "\n",
    "---\n",
    "\n",
    "**Raising an Exception** \n",
    "\n",
    "We could create our own by **inheriting from the Exception class**. We could then **raise** that error by `raise MyErrException('msg')` where `class MyErrException(Exception)` inherited from the Parent class `Exception` and we run the parent's constructor within our own class with: `super().__init__(msg)`\n",
    "\n",
    "```python\n",
    "\n",
    "# Must inherit the Base Exception class \n",
    "class AgeInvalidException(Exception):\n",
    "    def __init__(self, msg):\n",
    "        # assigning val to class variable \n",
    "        self.msg = msg \n",
    "        # Override base Exception constructor with our own message\n",
    "        super().__init__(msg)\n",
    "```\n",
    "\n",
    "then we could **raise** our exception like so:\n",
    "\n",
    "```python \n",
    "\n",
    "def check_age(age):\n",
    "    if age < 18:\n",
    "        raise AgeInvalidException(\"Age is less than 18\")\n",
    "    else:\n",
    "        print(\"Wecome\")\n",
    "```\n",
    "\n",
    "**However**, we must also provide a **handle** statament so our `try except finally` block:\n",
    "\n",
    "```python\n",
    "\n",
    "# It's better to handle the exception when calling the function \n",
    "try:\n",
    "    check_age(15)\n",
    "except AgeInvalidException as ae:\n",
    "    print(ae)\n",
    "```\n"
   ]
  }
 ],
 "metadata": {
  "kernelspec": {
   "display_name": "Python 3",
   "language": "python",
   "name": "python3"
  },
  "language_info": {
   "codemirror_mode": {
    "name": "ipython",
    "version": 3
   },
   "file_extension": ".py",
   "mimetype": "text/x-python",
   "name": "python",
   "nbconvert_exporter": "python",
   "pygments_lexer": "ipython3",
   "version": "3.12.4"
  }
 },
 "nbformat": 4,
 "nbformat_minor": 2
}
