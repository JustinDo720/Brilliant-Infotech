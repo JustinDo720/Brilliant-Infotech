{
 "cells": [
  {
   "cell_type": "markdown",
   "metadata": {},
   "source": [
    "### Assignments for Class 10:\n",
    "\n",
    "1) Create a python program that prompts the user for three names of people and stores them in list of Person type objects. There will be two people of the Student type and one person of the Teacher type.\n",
    "Hint:create a Person class that has a Name property, a constructor that receives the name as a parameter\n",
    "    - The Student class has a Study method that displays that the student is studying. The Teacher class will have an Explain method that displays the teacher is explaining. Remember to also create constructors on the child classes that call the parent constructor of the Person class."
   ]
  },
  {
   "cell_type": "code",
   "execution_count": 4,
   "metadata": {},
   "outputs": [
    {
     "name": "stdout",
     "output_type": "stream",
     "text": [
      "Justin the Student is Studying\n",
      "Thy the Student is Studying\n",
      "Muffin the Teacher is Explaining\n"
     ]
    }
   ],
   "source": [
    "# Creating the Person class \n",
    "class Person:\n",
    "    def __init__(self, name):\n",
    "        self.name = name\n",
    "\n",
    "# Student and Teacher child class\n",
    "class Student(Person):\n",
    "    def __init__(self,name, person_type):\n",
    "        self.name = name \n",
    "        # Determine if it's a student or teacher\n",
    "        self.person_type = person_type\n",
    "        super().__init__(name)\n",
    "    \n",
    "    # Studying method \n",
    "    def studying(self):\n",
    "        print(self.name + \" the Student is Studying\")\n",
    "\n",
    "class Teacher(Person):\n",
    "    def __init__(self,name, person_type):\n",
    "        self.name = name \n",
    "        # Determine if it's a student or teacher\n",
    "        self.person_type = person_type\n",
    "        super().__init__(name)\n",
    "    \n",
    "    # Explaining method\n",
    "    def explaining(self):\n",
    "        print(self.name + \" the Teacher is Explaining\")\n",
    "\n",
    "\n",
    "# Collecting two students and one teacher \n",
    "lst_of_ppl = []\n",
    "\n",
    "for ppl in range(3):\n",
    "    # During the final iteration, we will get the Teacher's name\n",
    "    if ppl == 2:\n",
    "        teacher_name = input(\"Teacher Name: \")\n",
    "        lst_of_ppl.append(Teacher(teacher_name, 'teacher'))\n",
    "    else: \n",
    "        stud_name = input(\"Student Name: \")\n",
    "        lst_of_ppl.append(Student(stud_name, 'student'))\n",
    "\n",
    "# Printing our output\n",
    "for student_or_teacher in lst_of_ppl:\n",
    "    # Check if we have a studying method\n",
    "    if student_or_teacher.person_type == 'student':\n",
    "        student_or_teacher.studying()\n",
    "    else:\n",
    "        student_or_teacher.explaining()\n",
    "    "
   ]
  },
  {
   "cell_type": "markdown",
   "metadata": {},
   "source": [
    "2) Write a python program to create an abstract class BankAccount with abstract methods deposit() and withdraw(). Create subclasses: SavingsAccount and CurrentAccount that extend the BankAccount class and implement the respective methods to handle deposits and withdrawals for each account type."
   ]
  },
  {
   "cell_type": "code",
   "execution_count": 7,
   "metadata": {},
   "outputs": [
    {
     "name": "stdout",
     "output_type": "stream",
     "text": [
      "Savings account total: 500\n",
      "Your new total for your Savings Account after deposit is: 550\n",
      "Your new total for your Savings Account after withdraw is: 490\n",
      "\n",
      "Current account total: 1200\n",
      "Your new total for your Current Account after deposit is: 1400\n",
      "Your new total for your Current Account after withdraw is: 1360\n"
     ]
    }
   ],
   "source": [
    "# To use abstract class we must import from the abc module \n",
    "from abc import ABC, abstractmethod\n",
    "\n",
    "# Abstract Bank Account\n",
    "class BankAccount(ABC):\n",
    "    # Deposit Function \n",
    "    @abstractmethod\n",
    "    def deposit(self, money):\n",
    "        pass\n",
    "\n",
    "    # Withdraw Function \n",
    "    @abstractmethod\n",
    "    def withdraw(self, money):\n",
    "        pass\n",
    "\n",
    "\n",
    "# Subclasses\n",
    "class SavingsAccount(BankAccount):\n",
    "    def __init__(self, total_amount):\n",
    "        self.total_amount = total_amount\n",
    "    \n",
    "    # Overriding Abstract methods \n",
    "    def deposit(self, money):\n",
    "        self.total_amount = self.total_amount + money\n",
    "        print(\"Your new total for your Savings Account after deposit is: \" + str(self.total_amount))\n",
    "    \n",
    "    def withdraw(self, money):\n",
    "        self.total_amount = self.total_amount - money \n",
    "        print(\"Your new total for your Savings Account after withdraw is: \" + str(self.total_amount))\n",
    "\n",
    "class CurrentAccount(BankAccount):\n",
    "    def __init__(self, total_amount):\n",
    "        self.total_amount = total_amount\n",
    "    \n",
    "    # Overriding Abstract methods \n",
    "    def deposit(self, money):\n",
    "        self.total_amount = self.total_amount + money\n",
    "        print(\"Your new total for your Current Account after deposit is: \" + str(self.total_amount))\n",
    "    \n",
    "    def withdraw(self, money):\n",
    "        self.total_amount = self.total_amount - money \n",
    "        print(\"Your new total for your Current Account after withdraw is: \" + str(self.total_amount))\n",
    "\n",
    "\n",
    "# Creating our objects\n",
    "savings_acc = SavingsAccount(500)\n",
    "curr_acc = CurrentAccount(1200)\n",
    "\n",
    "# Running our functions \n",
    "print(\"Savings account total: \" + str(savings_acc.total_amount))\n",
    "savings_acc.deposit(50)\n",
    "savings_acc.withdraw(60)\n",
    "\n",
    "print()\n",
    "\n",
    "print(\"Current account total: \" + str(curr_acc.total_amount))\n",
    "curr_acc.deposit(200)\n",
    "curr_acc.withdraw(40)\n"
   ]
  },
  {
   "cell_type": "markdown",
   "metadata": {},
   "source": [
    "3) Write a Python program that prompts the user to input two numbers and raises a TypeError exception if the inputs are not numerica"
   ]
  },
  {
   "cell_type": "code",
   "execution_count": 15,
   "metadata": {},
   "outputs": [
    {
     "name": "stdout",
     "output_type": "stream",
     "text": [
      "Both inputs are numbers.\n",
      "----\n",
      "\n",
      "Your first number isn't a number.\n",
      "----\n",
      "\n",
      "Your second number isn't a number\n",
      "----\n",
      "\n"
     ]
    }
   ],
   "source": [
    "def check_inputs(num1, num2):\n",
    "    if type(num1) != int:\n",
    "        raise TypeError(\"Your first number isn't a number.\")\n",
    "    elif type(num2) != int:\n",
    "        raise TypeError(\"Your second number isn't a number\")\n",
    "    else:\n",
    "        print(\"Both inputs are numbers.\")\n",
    "    \n",
    "# Testing our function\n",
    "check_inputs(10,20)     # Both are numbers so it should be fine\n",
    "print(\"----\")\n",
    "print()\n",
    "\n",
    "try:\n",
    "    check_inputs('10',20)   # Number 1 is a string \n",
    "except TypeError as te:\n",
    "    print(te)\n",
    "finally:\n",
    "    print(\"----\")\n",
    "    print()\n",
    "\n",
    "try:\n",
    "    check_inputs(10,'20')   # Number 2 is a string \n",
    "except TypeError as te:\n",
    "    print(te)\n",
    "finally:\n",
    "    print(\"----\")\n",
    "    print()"
   ]
  }
 ],
 "metadata": {
  "kernelspec": {
   "display_name": "Python 3",
   "language": "python",
   "name": "python3"
  },
  "language_info": {
   "codemirror_mode": {
    "name": "ipython",
    "version": 3
   },
   "file_extension": ".py",
   "mimetype": "text/x-python",
   "name": "python",
   "nbconvert_exporter": "python",
   "pygments_lexer": "ipython3",
   "version": "3.12.4"
  }
 },
 "nbformat": 4,
 "nbformat_minor": 2
}
