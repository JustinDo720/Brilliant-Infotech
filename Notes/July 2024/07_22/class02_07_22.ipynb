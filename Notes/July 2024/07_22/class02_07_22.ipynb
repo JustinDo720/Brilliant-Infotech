{
 "cells": [
  {
   "cell_type": "markdown",
   "metadata": {},
   "source": [
    "**Notes for Class 2** \n",
    "\n",
    "---\n",
    "\n",
    "***HTML***"
   ]
  },
  {
   "cell_type": "code",
   "execution_count": null,
   "metadata": {
    "vscode": {
     "languageId": "html"
    }
   },
   "outputs": [],
   "source": [
    "<!DOCTYPE html>\n",
    "<html lang=\"en\">\n",
    "<head>\n",
    "    <meta charset=\"UTF-8\">\n",
    "    <meta name=\"viewport\" content=\"width=device-width, initial-scale=1.0\">\n",
    "    <title>Document</title>\n",
    "</head>\n",
    "<body>\n",
    "    <a href=\"https://www.youtube.com/\" target=\"_blank\">Example Link</a>\n",
    "    <p title=\"I am a tooltip\">My first pargraph</p>\n",
    "    <hr>\n",
    "    <b>This word is bold</b>\n",
    "    <br>\n",
    "    <strong>Important Strong</strong>\n",
    "    <br>\n",
    "    <i>In Itatlics</i>\n",
    "    <br>\n",
    "    <em>Occupies less space</em>\n",
    "    <!-- comments -->\n",
    "</body>\n",
    "</html>"
   ]
  },
  {
   "cell_type": "markdown",
   "metadata": {},
   "source": [
    "**Notes Above Code above**\n",
    "\n",
    "`<img src=\"file_name.png\" alt=\"Alternative Note\" width=\"500\" height=\"500\">`\n",
    "- Alt -> **attribute** that is a placeholder text \n",
    "\n",
    "`<a href=\"https://www.youtube.com/\" target=\"_blank\">Example Link</a>`\n",
    "- target -> **attribute** if *_blank* that means open to new tab \n",
    "\n",
    "`<em></em>`\n",
    "- Occupies less space"
   ]
  },
  {
   "cell_type": "markdown",
   "metadata": {},
   "source": [
    "---\n",
    "\n",
    "**Nested Code** \n",
    "\n",
    "In *HTML* it's just a **tag within a tag** \n",
    "\n",
    "*`<p>` tag*\n",
    "- **title** -> **attribute** to act as a \"hover-text\"\n",
    "\n",
    "*`<hr>` tag*\n",
    "- Horizontal line (Empty element)\n",
    "\n",
    "*`<b>` tag*\n",
    "- Bold tag \n",
    "\n",
    "*`<em>` tag*\n",
    "- Occupy less space (In-line) \n",
    "\n",
    "*`<!-- Comment -->` comments*\n",
    "- Non-executable comments"
   ]
  },
  {
   "cell_type": "markdown",
   "metadata": {},
   "source": [
    "---\n",
    "\n",
    "**Summary** \n",
    "\n",
    "*Nested code for html* just means that there are **tags** within other **tags** (i.e HTML code within the **body** tag)\n",
    "\n",
    "---\n",
    "\n",
    "**HTML tags** used to create an **element** (entire html line) with **attributes** (properties within the tags)\n",
    "1) `<a>` anchor tag for **links** \n",
    "    - *href* property -> reference to the link \n",
    "    - *target* property -> _blank to open link in a new tag \n",
    "1) `<p>` paragraph tag for **texts** \n",
    "    - *title* property -> hoverable text\n",
    "1) `<h1>` header tag (# can be exchanged with 1-4) for **text sizes**\n",
    "1) `<b>` bold tag to **enbold a text**\n",
    "1) `<strong>` strong tag to put more **emphasis on the text**\n",
    "1) `<em>` in line tag for texts to **occupy less space**\n",
    "1) `<i>` to **italitize** texts\n",
    "\n",
    "**Empty HTML tags** meaning no *closing tags* and *content* \n",
    "1) `<br>` to break texts into another lline \n",
    "1) `<hr>` to draw a horizontal line \n",
    "\n",
    "**Commenting in HTML** is a *non-executable* code which means people (aside from developers) won't see it \n",
    "1) `<!-- commenting -->`\n",
    "\n",
    "\n"
   ]
  }
 ],
 "metadata": {
  "kernelspec": {
   "display_name": "Python 3",
   "language": "python",
   "name": "python3"
  },
  "language_info": {
   "codemirror_mode": {
    "name": "ipython",
    "version": 3
   },
   "file_extension": ".py",
   "mimetype": "text/x-python",
   "name": "python",
   "nbconvert_exporter": "python",
   "pygments_lexer": "ipython3",
   "version": "3.12.4"
  }
 },
 "nbformat": 4,
 "nbformat_minor": 2
}
