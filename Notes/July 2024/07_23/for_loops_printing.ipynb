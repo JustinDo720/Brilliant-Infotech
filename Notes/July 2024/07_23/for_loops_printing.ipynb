{
 "cells": [
  {
   "cell_type": "markdown",
   "metadata": {},
   "source": [
    "# Several for-loop printing pattern \n",
    "\n",
    "---\n",
    "\n",
    "Output:\n",
    "```python\n",
    "*\n",
    "**\n",
    "***\n",
    "****\n",
    "```\n",
    "\n",
    "**How should we think about this?** \n",
    "- It's a **nested for-loop**\n",
    "- You need to think about these in **rows and columns**"
   ]
  },
  {
   "cell_type": "code",
   "execution_count": 2,
   "metadata": {},
   "outputs": [
    {
     "name": "stdout",
     "output_type": "stream",
     "text": [
      "*\n",
      "**\n",
      "***\n",
      "****\n",
      "*****\n"
     ]
    }
   ],
   "source": [
    "num = 5 \n",
    "\n",
    "# Remember it's start,stop --> which means we're stopping on 6 to include 5 (our original num)\n",
    "for rows in range(1,num+1):\n",
    "    # We're adding an extra stop for the same purpose as above. If our row was 1, we want the range to be range(1,2) because it stops on 2.\n",
    "    for cols in range(1,rows+1):\n",
    "        print('*', end=\"\")\n",
    "    print()    \n"
   ]
  },
  {
   "cell_type": "markdown",
   "metadata": {},
   "source": []
  },
  {
   "cell_type": "code",
   "execution_count": null,
   "metadata": {},
   "outputs": [],
   "source": []
  }
 ],
 "metadata": {
  "kernelspec": {
   "display_name": "Python 3",
   "language": "python",
   "name": "python3"
  },
  "language_info": {
   "codemirror_mode": {
    "name": "ipython",
    "version": 3
   },
   "file_extension": ".py",
   "mimetype": "text/x-python",
   "name": "python",
   "nbconvert_exporter": "python",
   "pygments_lexer": "ipython3",
   "version": "3.12.4"
  }
 },
 "nbformat": 4,
 "nbformat_minor": 2
}
