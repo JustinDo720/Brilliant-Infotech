{
 "cells": [
  {
   "cell_type": "markdown",
   "metadata": {},
   "source": [
    "**Assignment**\n",
    "1) WAP1 to print 10 random numbers between 10 to 20\n",
    "    - generate floating point between these ranges\n",
    "    - random() * (higher_bound - lower_bound) + lower_bound \n",
    "1) WAP2 to create a module having a function with 5 subject marks as parameters. In another module print the average of these marks"
   ]
  },
  {
   "cell_type": "code",
   "execution_count": null,
   "metadata": {},
   "outputs": [],
   "source": []
  }
 ],
 "metadata": {
  "language_info": {
   "name": "python"
  }
 },
 "nbformat": 4,
 "nbformat_minor": 2
}
