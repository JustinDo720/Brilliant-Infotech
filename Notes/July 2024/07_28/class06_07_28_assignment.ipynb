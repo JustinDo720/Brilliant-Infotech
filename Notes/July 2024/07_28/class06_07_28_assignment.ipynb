{
 "cells": [
  {
   "cell_type": "markdown",
   "metadata": {},
   "source": [
    "**Assignment**\n",
    "1) WAP1 to print 10 random numbers between 10 to 20\n",
    "    - generate floating point between these ranges\n",
    "    - random() * (higher_bound - lower_bound) + lower_bound \n",
    "1) WAP2 to create a module having a function with 5 subject marks as parameters. In another module print the average of these marks\n",
    "    - Created in WAP2 Folder "
   ]
  },
  {
   "cell_type": "code",
   "execution_count": 37,
   "metadata": {},
   "outputs": [
    {
     "data": {
      "text/plain": [
       "12.801804344592327"
      ]
     },
     "execution_count": 37,
     "metadata": {},
     "output_type": "execute_result"
    }
   ],
   "source": [
    "# WAP1 \n",
    "# To generate a random number we'll be using the random module\n",
    "import random\n",
    "\n",
    "# Within the random module, we have a random() function \n",
    "# random.random()\n",
    "\n",
    "# However we have a formula to get a random floating point between a range:\n",
    "# Random Floating point within range = random_float * (upper_bound - lower_bound) + lower_bound \n",
    "higher_bound = 20 \n",
    "lower_bound = 10\n",
    "random.random() * (higher_bound-lower_bound) + lower_bound"
   ]
  },
  {
   "cell_type": "markdown",
   "metadata": {},
   "source": [
    "### WAP2 to create a module having a function with 5 subject marks as parameters. In another module print the average of these marks\n",
    "\n",
    "**first_module.py**\n",
    "\n",
    "```python\n",
    "# Args will hold 5 subject marks\n",
    "def marks(*args):\n",
    "    avg = 0\n",
    "\n",
    "    # Loop through all Marks \n",
    "    for mark in args:\n",
    "        # Grabbing to total mark \n",
    "        avg += mark\n",
    "    \n",
    "    # Returning the val \n",
    "    return avg/len(args)\n",
    "```\n",
    "\n",
    "**print_avg.py**\n",
    "\n",
    "```python\n",
    "from first_module import marks\n",
    "\n",
    "print(marks(90, 30, 50, 20, 70))\n",
    "```"
   ]
  }
 ],
 "metadata": {
  "kernelspec": {
   "display_name": "Python 3",
   "language": "python",
   "name": "python3"
  },
  "language_info": {
   "codemirror_mode": {
    "name": "ipython",
    "version": 3
   },
   "file_extension": ".py",
   "mimetype": "text/x-python",
   "name": "python",
   "nbconvert_exporter": "python",
   "pygments_lexer": "ipython3",
   "version": "3.12.4"
  }
 },
 "nbformat": 4,
 "nbformat_minor": 2
}
