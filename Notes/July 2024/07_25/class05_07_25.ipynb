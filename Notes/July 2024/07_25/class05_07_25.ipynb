{
 "cells": [
  {
   "cell_type": "markdown",
   "metadata": {},
   "source": [
    "# Class 5 \n",
    "\n",
    "--- \n",
    "\n",
    "### Tuples, Dictionaries, Functions"
   ]
  },
  {
   "cell_type": "code",
   "execution_count": 10,
   "metadata": {},
   "outputs": [
    {
     "name": "stdout",
     "output_type": "stream",
     "text": [
      "{'Justin': 'Blue', 'Thy': 'Blue', 'Muffin': 'Blue'}\n"
     ]
    }
   ],
   "source": [
    "t = (1,'Hello',True)\n",
    "\n",
    "### Input three names and marks where names is key and marks should be value \n",
    "\n",
    "name_mark_dict = {}\n",
    "for i in range(3):\n",
    "    user_name = input('Name: ')\n",
    "    user_mark = input('Mark: ')\n",
    "\n",
    "    name_mark_dict[user_name] = user_mark\n",
    "\n",
    "print(name_mark_dict)"
   ]
  },
  {
   "cell_type": "code",
   "execution_count": 11,
   "metadata": {},
   "outputs": [
    {
     "name": "stdout",
     "output_type": "stream",
     "text": [
      "val1\n",
      "not found\n",
      "not found\n",
      "not found\n",
      "not found\n"
     ]
    }
   ],
   "source": [
    "# Search for value in dictionary. If value exists print key else \"not found\"\n",
    "# Value = User Input\n",
    "\n",
    "curr_dict = {\n",
    "    \"key1\": \"val1\",\n",
    "    \"key2\": \"val2\",\n",
    "    \"key3\": \"val3\",\n",
    "    \"key4\": \"val4\",\n",
    "    \"key5\": \"val5\",\n",
    "}\n",
    "\n",
    "user_key = input(\"Key to search: \")\n",
    "found = False\n",
    "\n",
    "for key in curr_dict:\n",
    "    if key == user_key:\n",
    "        found = True\n",
    "        print(curr_dict[key])\n",
    "    \n",
    "if not found:\n",
    "    print(\"Not found\")"
   ]
  },
  {
   "cell_type": "code",
   "execution_count": 15,
   "metadata": {},
   "outputs": [
    {
     "data": {
      "text/plain": [
       "True"
      ]
     },
     "execution_count": 15,
     "metadata": {},
     "output_type": "execute_result"
    }
   ],
   "source": [
    "curr_dict = {\n",
    "    \"key1\": \"val1\",\n",
    "    \"key2\": \"val2\",\n",
    "    \"key3\": \"val3\",\n",
    "    \"key4\": \"val4\",\n",
    "    \"key5\": \"val5\",\n",
    "}\n",
    "\n",
    "curr_dict.items()\n",
    "'key1' in curr_dict.keys()"
   ]
  },
  {
   "cell_type": "markdown",
   "metadata": {},
   "source": [
    "## Notes for class 5\n",
    "\n",
    "**Tuples**\n",
    "- **immuatable** - cannot be changed / alter\n",
    "- Denoted by using a () \n",
    "    1) `t = (1,'Hello',True)`\n",
    "- can use every function as a **list** but you cannot change the tuple \n",
    "    - cannot append, extend, and sort \n",
    "    - can iterate, operations (concat and multiply)\n",
    "    - cannot use functions to modify the tuple (immutable)\n",
    "- Tuple **unpacking** \n",
    "    - creating variables from tuple \n",
    "    - use **multi-assignment** \n",
    "        1) `t,b,a = (1,2,3)`\n",
    "- Use tuples if you do not want the **data to be altered**\n",
    "- Tuples is faster than list because it is **static** as opposed to a **dynamic list** \n",
    "\n",
    "---\n",
    "\n",
    "**Dictionaries**\n",
    "- *Key*:*Value* pairs \n",
    "- `{\"a\": 1, \"b\": 2}`\n",
    "    1) Immuatbles can be a *key* but could be the *value* \n",
    "- **Duplicated keys** will run but it will take the last value \n",
    "- Assessible by **keys** \n",
    "    - `dict_name['key']`\n",
    "- Iterating a dictionary:\n",
    "    - ```python\n",
    "        for key in d:\n",
    "            print(d[key])\n",
    "        ```\n",
    "    - Iterate via keys \n",
    "- Dictionary Functions \n",
    "    - `len(my_dict)` => based on keys \n",
    "    - `my_dct[key] = val` => adding new key:val pair \n",
    "    - `del my_dct[key]` => delete a key:val pair based on the key \n",
    "    - `items()`\n",
    "        - `my_dct.items()` => return a tuple of key:val pairs \n",
    "        - loopable -> `for key,val in my_dct.items()` \n",
    "    - `update()` => update the present dictionary \n",
    "        - `d1.update(d2)` d1 is the an extended dictionary of d1 + d2\n",
    "        - overwrite current keys and add new keys \n",
    "- Nested Dictionaries \n",
    "    - ```python \n",
    "        emp = {\n",
    "            \"John\": {\"salary\": 420, \"age\": 55},\n",
    "            \"New\": {\"slaray\": 4200}\n",
    "        } ```\n",
    "    - Access keys within keys `emp['John']['Salary']`\n",
    "    - ```python\n",
    "        for keys in emp:\n",
    "            for key,val in emp[keys].items():\n",
    "                print(key,val)\n",
    "        ```\n",
    "\n",
    "---\n",
    "\n",
    "**Functions**\n",
    "\n",
    "- Callable and reusable code\n",
    "\n",
    "```python\n",
    "def demo(a,b):\n",
    "    print(a+b)\n",
    "\n",
    "demo(10,23)\n",
    "```\n",
    "\n",
    "Functions could **return** values as well \n",
    "\n",
    "```python\n",
    "def demo(a,b):\n",
    "    # the demo function now has this returned value\n",
    "    return a+b\n",
    "\n",
    "print(demo(10,23))\n",
    "# or var \n",
    "result = demo(10,23)\n",
    "print(result)\n",
    "```"
   ]
  },
  {
   "cell_type": "markdown",
   "metadata": {},
   "source": [
    "# Summary \n",
    "\n",
    "---\n",
    "\n",
    "**Tuples** \n",
    "- **Immuatable** \n",
    "- `t = (1,'Hello', True)` => creating \n",
    "- `t,b,a = (1,'Hello', True)` => unpacking\n",
    "- Used when you dont want data to be **altered** \n",
    "- **Static** meaning it's faster than lists (*Dynamic*)\n",
    "\n",
    "---\n",
    "\n",
    "**Dictionaries / Hashmap**\n",
    "- **Mutable** \n",
    "- *key:value* pair \n",
    "- `dic[key]` => access values \n",
    "- `dic[key] = val` => add new key:val pair \n",
    "- `del dic[key]`\n",
    "- Iterating through dictionaries:\n",
    "    - `for key in dict:` \n",
    "    - `for key,val in dict.items()`\n",
    "- Functions:\n",
    "    1) `len(dict)` number/count of keys\n",
    "    2) `d1.update(d2)` extends d1 dictionary \n",
    "- Nested dictionaries \n",
    "    - Accessed with `dict[k1][k2]`\n",
    "    - Iterated:\n",
    "        - ```python\n",
    "            for key1 in dict:\n",
    "                # Because key1 is actually another dictionary \n",
    "                for key2,val2 in key1.items():\n",
    "            ```\n",
    "\n",
    "---\n",
    "\n",
    "**Functions**\n",
    "- **Reusable Code** that are called upon \n",
    "- **Returnable values**\n",
    "\n",
    "```python\n",
    "# Create function based on the \"def\" key\n",
    "\n",
    "def my_func(parameter):\n",
    "    print(parameter)\n",
    "\n",
    "\n",
    "def my_return_func(par1, para2)\n",
    "    return para1+para2\n",
    "\n",
    "# Calling my function\n",
    "my_func(\"hello\")\n",
    "\n",
    "# Returnable value in my function \n",
    "var = my_return_func(\"hello\", \"world\")\n",
    "print(var)\n",
    "```\n",
    "\n"
   ]
  }
 ],
 "metadata": {
  "kernelspec": {
   "display_name": "Python 3",
   "language": "python",
   "name": "python3"
  },
  "language_info": {
   "codemirror_mode": {
    "name": "ipython",
    "version": 3
   },
   "file_extension": ".py",
   "mimetype": "text/x-python",
   "name": "python",
   "nbconvert_exporter": "python",
   "pygments_lexer": "ipython3",
   "version": "3.12.4"
  }
 },
 "nbformat": 4,
 "nbformat_minor": 2
}
