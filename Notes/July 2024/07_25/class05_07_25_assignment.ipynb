{
 "cells": [
  {
   "cell_type": "markdown",
   "metadata": {},
   "source": [
    "# Class 5 Assignment (07/25/24)\n",
    "\n",
    "---\n",
    "\n",
    "\"create a dictionary having numbers from 1-10 as keys and the square of each numbers as their respective value\"\n",
    "\n",
    "**Input:** `{'1','2','3','4','5','6','7','8','9','10'}`\n",
    "\n",
    "**Output:** `squared_values = {\n",
    "    '1': 1,\n",
    "    '2': 4,\n",
    "    '3': 9,\n",
    "    '4': 16,\n",
    "    '5': 25,\n",
    "    '6': 36,\n",
    "    '7': 49,\n",
    "    '8': 64,\n",
    "    '9': 81,\n",
    "    '10': 100\n",
    "}`"
   ]
  },
  {
   "cell_type": "code",
   "execution_count": 1,
   "metadata": {},
   "outputs": [
    {
     "name": "stdout",
     "output_type": "stream",
     "text": [
      "{1: 1, 2: 4, 3: 9, 4: 16, 5: 25, 6: 36, 7: 49, 8: 64, 9: 81, 10: 100}\n"
     ]
    }
   ],
   "source": [
    "input_dict = {}\n",
    "\n",
    "for i in range(1, 11):\n",
    "    input_dict[i] = i**2\n",
    "\n",
    "print(input_dict)"
   ]
  },
  {
   "cell_type": "code",
   "execution_count": 3,
   "metadata": {},
   "outputs": [
    {
     "name": "stdout",
     "output_type": "stream",
     "text": [
      "{1: 1, 2: 4, 3: 9, 4: 16, 5: 25, 6: 36, 7: 49, 8: 64, 9: 81, 10: 100}\n"
     ]
    }
   ],
   "source": [
    "# Prettier way of doing it (Dictionary Comprehension)\n",
    "\n",
    "input_dict = {key:key**2 for key in range(1,11)}\n",
    "print(input_dict)"
   ]
  }
 ],
 "metadata": {
  "kernelspec": {
   "display_name": "Python 3",
   "language": "python",
   "name": "python3"
  },
  "language_info": {
   "codemirror_mode": {
    "name": "ipython",
    "version": 3
   },
   "file_extension": ".py",
   "mimetype": "text/x-python",
   "name": "python",
   "nbconvert_exporter": "python",
   "pygments_lexer": "ipython3",
   "version": "3.12.4"
  }
 },
 "nbformat": 4,
 "nbformat_minor": 2
}
