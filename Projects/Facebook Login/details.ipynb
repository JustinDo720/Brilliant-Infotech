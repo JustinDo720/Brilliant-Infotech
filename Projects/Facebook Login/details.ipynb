{
 "cells": [
  {
   "cell_type": "markdown",
   "metadata": {},
   "source": [
    "# Task\n",
    "\n",
    "Mini Project Web Designing: Create facebook login Page using html & css\n",
    "\n",
    "---\n",
    "\n",
    "<img src='fb-loginpng.png' width='850' height='550'>"
   ]
  }
 ],
 "metadata": {
  "language_info": {
   "name": "python"
  }
 },
 "nbformat": 4,
 "nbformat_minor": 2
}
