{
 "cells": [
  {
   "cell_type": "markdown",
   "metadata": {},
   "source": [
    "# Bus Reservation Project\n",
    "\n",
    "--- \n",
    "\n",
    "Create a bus reservation system using tkinter,mysql and python. \n",
    "It should have the following features:\n",
    "\n",
    "1. Users need to register and login before reserving the bus\n",
    "\n",
    "2. Once the user logins they should be shown the list of buses available along with their timings and fare.\n",
    "\n",
    "3. User can click on a specific bus to book. Once clicked, open a new window to display user's profile along with the ticket booked.\n",
    "\n",
    "Note: All the bus data should come from the database"
   ]
  },
  {
   "cell_type": "code",
   "execution_count": null,
   "metadata": {},
   "outputs": [],
   "source": []
  }
 ],
 "metadata": {
  "language_info": {
   "name": "python"
  }
 },
 "nbformat": 4,
 "nbformat_minor": 2
}
